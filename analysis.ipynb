{
 "cells": [
  {
   "cell_type": "code",
   "execution_count": 7,
   "metadata": {},
   "outputs": [
    {
     "name": "stdout",
     "output_type": "stream",
     "text": [
      "The autoreload extension is already loaded. To reload it, use:\n",
      "  %reload_ext autoreload\n"
     ]
    }
   ],
   "source": [
    "%matplotlib qt\n",
    "%load_ext autoreload\n",
    "%autoreload 2\n",
    "import napari\n",
    "import matplotlib.pyplot as plt \n",
    "import numpy as np\n",
    "from pathlib import Path\n",
    "\n",
    "from utils import  load_image, select_elipse_from_stack\n",
    "from consts import UMBRELLA"
   ]
  },
  {
   "cell_type": "code",
   "execution_count": 8,
   "metadata": {},
   "outputs": [],
   "source": [
    "coord_path = Path(\"/Users/jamesrowland/Code/dlx/coords\")\n",
    "rna = \"90\"\n",
    "assert rna in {\"90\", \"91\", \"scrambled\"}\n",
    "well = 1\n",
    "\n",
    "experiments = list((UMBRELLA / rna / str(well)).glob(\"*.czi\"))"
   ]
  },
  {
   "cell_type": "code",
   "execution_count": 9,
   "metadata": {},
   "outputs": [
    {
     "data": {
      "text/plain": [
       "<Image layer 'average' at 0x153d34260>"
      ]
     },
     "execution_count": 9,
     "metadata": {},
     "output_type": "execute_result"
    }
   ],
   "source": [
    "viewer = napari.Viewer()\n",
    "\n",
    "experiment = experiments[0]\n",
    "file_name = f\"{rna}_{well}_{experiment.name.strip(\".czi\")}.npy\"\n",
    "image = load_image(str(experiment))\n",
    "stack = image.get_image_data().squeeze()\n",
    "\n",
    "average = stack.mean(axis=0)\n",
    "\n",
    "viewer.add_image(stack, name=\"full stack\", scale=(1, 1, 1))\n",
    "viewer.add_image(average, name=\"average\")\n"
   ]
  },
  {
   "cell_type": "code",
   "execution_count": 10,
   "metadata": {},
   "outputs": [
    {
     "ename": "AssertionError",
     "evalue": "",
     "output_type": "error",
     "traceback": [
      "\u001b[0;31m---------------------------------------------------------------------------\u001b[0m",
      "\u001b[0;31mAssertionError\u001b[0m                            Traceback (most recent call last)",
      "Cell \u001b[0;32mIn[10], line 3\u001b[0m\n\u001b[1;32m      1\u001b[0m shapes_layers \u001b[38;5;241m=\u001b[39m [layer \u001b[38;5;28;01mfor\u001b[39;00m layer \u001b[38;5;129;01min\u001b[39;00m viewer\u001b[38;5;241m.\u001b[39mlayers \u001b[38;5;28;01mif\u001b[39;00m \u001b[38;5;124m\"\u001b[39m\u001b[38;5;124mShapes\u001b[39m\u001b[38;5;124m\"\u001b[39m \u001b[38;5;129;01min\u001b[39;00m layer\u001b[38;5;241m.\u001b[39mname]\n\u001b[1;32m      2\u001b[0m coords \u001b[38;5;241m=\u001b[39m [d \u001b[38;5;28;01mfor\u001b[39;00m layer \u001b[38;5;129;01min\u001b[39;00m shapes_layers \u001b[38;5;28;01mfor\u001b[39;00m d \u001b[38;5;129;01min\u001b[39;00m layer\u001b[38;5;241m.\u001b[39mdata]\n\u001b[0;32m----> 3\u001b[0m \u001b[38;5;28;01massert\u001b[39;00m \u001b[38;5;28mlen\u001b[39m(coords) \u001b[38;5;241m>\u001b[39m \u001b[38;5;241m0\u001b[39m\n\u001b[1;32m      4\u001b[0m np\u001b[38;5;241m.\u001b[39msave(coord_path \u001b[38;5;241m/\u001b[39m file_name, coords)\n",
      "\u001b[0;31mAssertionError\u001b[0m: "
     ]
    }
   ],
   "source": [
    "shapes_layers = [layer for layer in viewer.layers if \"Shapes\" in layer.name]\n",
    "coords = [d for layer in shapes_layers for d in layer.data]\n",
    "assert len(coords) > 0\n",
    "np.save(coord_path / file_name, coords)"
   ]
  },
  {
   "cell_type": "code",
   "execution_count": 11,
   "metadata": {},
   "outputs": [],
   "source": [
    "coordys = np.load(coord_path / file_name)\n",
    "for idx, coord in enumerate(coordys):\n",
    "    x = select_elipse_from_stack(coord, stack)\n",
    "    viewer.add_image(x, name=f\"elipse {idx}\")"
   ]
  },
  {
   "cell_type": "code",
   "execution_count": 18,
   "metadata": {},
   "outputs": [
    {
     "data": {
      "text/plain": [
       "[<matplotlib.lines.Line2D at 0x32dad9ca0>]"
      ]
     },
     "execution_count": 18,
     "metadata": {},
     "output_type": "execute_result"
    }
   ],
   "source": [
    "plt.plot(np.nanmean(x, axis=(1, 2)))"
   ]
  },
  {
   "cell_type": "code",
   "execution_count": 5,
   "metadata": {},
   "outputs": [
    {
     "data": {
      "text/plain": [
       "<Image layer 'cell' at 0x15550d130>"
      ]
     },
     "execution_count": 5,
     "metadata": {},
     "output_type": "execute_result"
    }
   ],
   "source": [
    "if experiment.name == \"Experiment-1363.czi\" and rna == \"900000\":\n",
    "    corner_pixels = np.array([[  0, 675, 383],[  0, 766, 484]])\n",
    "elif experiment.name == 'Experiment-1354_10x.czi' and rna == \"scrambled\":\n",
    "    corner_pixels = np.array([[  0, 528, 477], [ 0, 607, 567]])\n",
    "else:\n",
    "    shape = [layer for layer in viewer.layers if layer.name == \"Shapes\"][0]\n",
    "    assert len(shape.data) == 1\n",
    "    corner_pixels = shape.corner_pixels\n",
    "\n",
    "\n",
    "top_left =  [corner_pixels[0, 1], corner_pixels[0, 2]]\n",
    "bottom_right = [corner_pixels[1,1], corner_pixels[1,2]]\n",
    "cell = stack[:, top_left[0]: bottom_right[0], top_left[1]: bottom_right[1]]\n",
    "\n",
    "viewer.add_image(cell, name=\"cell\")"
   ]
  },
  {
   "cell_type": "code",
   "execution_count": 6,
   "metadata": {},
   "outputs": [],
   "source": [
    "plt.clf()\n",
    "x = np.linspace(0, 3 * 60, cell.shape[0])\n",
    "plt.plot(x, np.mean(cell, axis=(1,2)))\n",
    "plt.plot(x, np.mean(cell, axis=(1,2)), '.') \n",
    "\n",
    "plt.xlabel(\"Time (s)\")\n",
    "\n",
    "plt.savefig(Path(\"/Users/jamesrowland/Code/dlx/figures\") / f\"{rna}_{well}.png\")"
   ]
  }
 ],
 "metadata": {
  "kernelspec": {
   "display_name": "venv",
   "language": "python",
   "name": "python3"
  },
  "language_info": {
   "codemirror_mode": {
    "name": "ipython",
    "version": 3
   },
   "file_extension": ".py",
   "mimetype": "text/x-python",
   "name": "python",
   "nbconvert_exporter": "python",
   "pygments_lexer": "ipython3",
   "version": "3.12.7"
  }
 },
 "nbformat": 4,
 "nbformat_minor": 2
}
