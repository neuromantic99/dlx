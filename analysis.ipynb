{
 "cells": [
  {
   "cell_type": "code",
   "execution_count": 1,
   "metadata": {},
   "outputs": [],
   "source": [
    "%matplotlib qt\n",
    "import napari\n",
    "import aicsimageio\n",
    "import matplotlib.pyplot as plt \n",
    "import numpy as np\n",
    "from pathlib import Path\n",
    "\n",
    "from utils import get_image_metadata_czi, load_image\n",
    "from consts import UMBRELLA"
   ]
  },
  {
   "cell_type": "code",
   "execution_count": 2,
   "metadata": {},
   "outputs": [],
   "source": [
    "rna = \"90\"\n",
    "assert rna in {\"90\", \"91\", \"scrambled\"}\n",
    "well = 1\n",
    "\n",
    "experiments = list((UMBRELLA / rna / str(well)).glob(\"*.czi\"))"
   ]
  },
  {
   "cell_type": "code",
   "execution_count": 3,
   "metadata": {},
   "outputs": [
    {
     "data": {
      "text/plain": [
       "<Image layer 'average' at 0x16e471ee0>"
      ]
     },
     "execution_count": 3,
     "metadata": {},
     "output_type": "execute_result"
    }
   ],
   "source": [
    "viewer = napari.Viewer()\n",
    "\n",
    "experiment = experiments[0]\n",
    "image = load_image(str(experiment))\n",
    "stack = image.get_image_data().squeeze()\n",
    "\n",
    "average = stack.mean(axis=0)\n",
    "\n",
    "viewer.add_image(stack, name=\"full stack\", scale=(1, 1, 1))\n",
    "viewer.add_image(average, name=\"average\")\n"
   ]
  },
  {
   "cell_type": "code",
   "execution_count": 5,
   "metadata": {},
   "outputs": [
    {
     "data": {
      "text/plain": [
       "<Image layer 'cell' at 0x15550d130>"
      ]
     },
     "execution_count": 5,
     "metadata": {},
     "output_type": "execute_result"
    }
   ],
   "source": [
    "if experiment.name == \"Experiment-1363.czi\" and rna == \"900000\":\n",
    "    corner_pixels = np.array([[  0, 675, 383],[  0, 766, 484]])\n",
    "elif experiment.name == 'Experiment-1354_10x.czi' and rna == \"scrambled\":\n",
    "    corner_pixels = np.array([[  0, 528, 477], [ 0, 607, 567]])\n",
    "else:\n",
    "    shape = [layer for layer in viewer.layers if layer.name == \"Shapes\"][0]\n",
    "    assert len(shape.data) == 1\n",
    "    corner_pixels = shape.corner_pixels\n",
    "\n",
    "\n",
    "top_left =  [corner_pixels[0, 1], corner_pixels[0, 2]]\n",
    "bottom_right = [corner_pixels[1,1], corner_pixels[1,2]]\n",
    "cell = stack[:, top_left[0]: bottom_right[0], top_left[1]: bottom_right[1]]\n",
    "\n",
    "viewer.add_image(cell, name=\"cell\")"
   ]
  },
  {
   "cell_type": "code",
   "execution_count": 6,
   "metadata": {},
   "outputs": [],
   "source": [
    "plt.clf()\n",
    "x = np.linspace(0, 3 * 60, cell.shape[0])\n",
    "plt.plot(x, np.mean(cell, axis=(1,2)))\n",
    "plt.plot(x, np.mean(cell, axis=(1,2)), '.') \n",
    "\n",
    "plt.xlabel(\"Time (s)\")\n",
    "\n",
    "plt.savefig(Path(\"/Users/jamesrowland/Code/dlx/figures\") / f\"{rna}_{well}.png\")"
   ]
  }
 ],
 "metadata": {
  "kernelspec": {
   "display_name": "venv",
   "language": "python",
   "name": "python3"
  },
  "language_info": {
   "codemirror_mode": {
    "name": "ipython",
    "version": 3
   },
   "file_extension": ".py",
   "mimetype": "text/x-python",
   "name": "python",
   "nbconvert_exporter": "python",
   "pygments_lexer": "ipython3",
   "version": "3.12.7"
  }
 },
 "nbformat": 4,
 "nbformat_minor": 2
}
