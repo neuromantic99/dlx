{
 "cells": [
  {
   "cell_type": "code",
   "execution_count": 1,
   "metadata": {},
   "outputs": [],
   "source": [
    "%matplotlib qt\n",
    "import napari\n",
    "import aicsimageio\n",
    "import matplotlib.pyplot as plt \n",
    "import numpy as np\n",
    "\n",
    "from utils import get_image_metadata_czi, load_image\n",
    "from consts import UMBRELLA"
   ]
  },
  {
   "cell_type": "code",
   "execution_count": 2,
   "metadata": {},
   "outputs": [],
   "source": [
    "rna = \"90\"\n",
    "assert rna in {\"90\", \"91\", \"scrambled\"}\n",
    "well = 1\n",
    "\n",
    "experiments = list((UMBRELLA / rna / str(well)).glob(\"*.czi\"))"
   ]
  },
  {
   "cell_type": "code",
   "execution_count": 4,
   "metadata": {},
   "outputs": [
    {
     "data": {
      "text/plain": [
       "<Image layer 'average' at 0x155baacc0>"
      ]
     },
     "execution_count": 4,
     "metadata": {},
     "output_type": "execute_result"
    }
   ],
   "source": [
    "viewer = napari.Viewer()\n",
    "\n",
    "experiment = experiments[0]\n",
    "image = load_image(str(experiment))\n",
    "stack = image.get_image_data().squeeze()\n",
    "\n",
    "average = stack.mean(axis=0)\n",
    "\n",
    "viewer.add_image(stack, name=\"full stack\", scale=(1, 1, 1))\n",
    "viewer.add_image(average, name=\"average\")\n"
   ]
  },
  {
   "cell_type": "code",
   "execution_count": null,
   "metadata": {},
   "outputs": [
    {
     "data": {
      "text/plain": [
       "<Image layer 'cell [1]' at 0x169fa5700>"
      ]
     },
     "execution_count": 8,
     "metadata": {},
     "output_type": "execute_result"
    }
   ],
   "source": [
    "shape = [layer for layer in viewer.layers if layer.name == \"Shapes\"][0]\n",
    "\n",
    "assert len(shape.data) == 1\n",
    "\n",
    "# corner_pixels = shape.corner_pixels\n",
    "\n",
    "corner_pixels = np.array([[  0, 675, 383],[  0, 766, 484]])\n",
    "\n",
    "top_left =  [corner_pixels[0, 1], corner_pixels[0, 2]]\n",
    "bottom_right = [corner_pixels[1,1], corner_pixels[1,2]]\n",
    "cell = stack[:, top_left[0]: bottom_right[0], top_left[1]: bottom_right[1]]\n",
    "\n",
    "viewer.add_image(cell, name=\"cell\")"
   ]
  },
  {
   "cell_type": "code",
   "execution_count": 12,
   "metadata": {},
   "outputs": [
    {
     "data": {
      "text/plain": [
       "[<matplotlib.lines.Line2D at 0x29fbf17f0>]"
      ]
     },
     "execution_count": 12,
     "metadata": {},
     "output_type": "execute_result"
    }
   ],
   "source": [
    "plt.plot(np.mean(cell, axis=(1,2)))\n",
    "plt.plot(np.mean(cell, axis=(1,2)), '.') "
   ]
  }
 ],
 "metadata": {
  "kernelspec": {
   "display_name": "venv",
   "language": "python",
   "name": "python3"
  },
  "language_info": {
   "codemirror_mode": {
    "name": "ipython",
    "version": 3
   },
   "file_extension": ".py",
   "mimetype": "text/x-python",
   "name": "python",
   "nbconvert_exporter": "python",
   "pygments_lexer": "ipython3",
   "version": "3.12.7"
  }
 },
 "nbformat": 4,
 "nbformat_minor": 2
}
